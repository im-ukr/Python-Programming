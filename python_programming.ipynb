{
  "nbformat": 4,
  "nbformat_minor": 0,
  "metadata": {
    "colab": {
      "provenance": [],
      "authorship_tag": "ABX9TyNIQIKqEZiDGUbUHPtP8583",
      "include_colab_link": true
    },
    "kernelspec": {
      "name": "python3",
      "display_name": "Python 3"
    },
    "language_info": {
      "name": "python"
    }
  },
  "cells": [
    {
      "cell_type": "markdown",
      "metadata": {
        "id": "view-in-github",
        "colab_type": "text"
      },
      "source": [
        "<a href=\"https://colab.research.google.com/github/kanakpandit17/Python-Programming/blob/main/python_programming.ipynb\" target=\"_parent\"><img src=\"https://colab.research.google.com/assets/colab-badge.svg\" alt=\"Open In Colab\"/></a>"
      ]
    },
    {
      "cell_type": "markdown",
      "source": [
        "https://www.youtube.com/watch?v=UrsmFxEIp5k&t=26597s"
      ],
      "metadata": {
        "id": "Rr1Tg6wcTLlo"
      }
    },
    {
      "cell_type": "markdown",
      "source": [
        "10-07"
      ],
      "metadata": {
        "id": "ZLYjux9LW_2G"
      }
    },
    {
      "cell_type": "markdown",
      "source": [
        "REPL stands for Read Evaluate Print Loop. It's an interactive programming environment that allows you to enter and execute commands directly. Here’s what each part means:\n",
        "\n",
        "Read: It reads the input you provide.\n",
        "Evaluate: It evaluates the input.\n",
        "Print: It prints the result of the evaluation.\n",
        "Loop: It repeats this process in a continuous loop, allowing you to enter new commands or expressions after seeing the result of the previous one."
      ],
      "metadata": {
        "id": "frzToxi8Wohd"
      }
    },
    {
      "cell_type": "markdown",
      "source": [
        "In Python, f is used to create f-strings, which are formatted string literals. F-strings provide a concise and readable way to embed expressions inside string literals, using curly braces {} to evaluate expressions and format values within a string."
      ],
      "metadata": {
        "id": "kgVmQFnQXlJE"
      }
    },
    {
      "cell_type": "code",
      "execution_count": null,
      "metadata": {
        "id": "nDuKoK_gW9Hj",
        "colab": {
          "base_uri": "https://localhost:8080/"
        },
        "outputId": "6b7121b3-b930-48ea-e54a-b6b66ef892ab"
      },
      "outputs": [
        {
          "output_type": "stream",
          "name": "stdout",
          "text": [
            "5* 1 = 5\n",
            "5* 2 = 10\n",
            "5* 3 = 15\n",
            "5* 4 = 20\n",
            "5* 5 = 25\n",
            "5* 6 = 30\n",
            "5* 7 = 35\n",
            "5* 8 = 40\n",
            "5* 9 = 45\n",
            "5* 10 = 50\n"
          ]
        }
      ],
      "source": [
        "def multiplication(num,limit):\n",
        "  for i in range(1,limit+1):\n",
        "    print(f\"{num}* {i} = {num*i}\")\n",
        "\n",
        "multiplication(5,10)"
      ]
    },
    {
      "cell_type": "markdown",
      "source": [
        "20-07-2024"
      ],
      "metadata": {
        "id": "lGNKduxWsPRv"
      }
    },
    {
      "cell_type": "markdown",
      "source": [
        "All String Operations"
      ],
      "metadata": {
        "id": "MrLxP9iMsdje"
      }
    },
    {
      "cell_type": "code",
      "source": [
        "str1 = \"Hello\"\n",
        "str2 = \"World\"\n",
        "result = str1 + \" \" + str2\n",
        "print(result)  # Output: Hello World"
      ],
      "metadata": {
        "id": "1jlVqvy6W-fF",
        "colab": {
          "base_uri": "https://localhost:8080/"
        },
        "outputId": "46fcbb8f-cd48-4448-c6ba-833e92dde752"
      },
      "execution_count": null,
      "outputs": [
        {
          "output_type": "stream",
          "name": "stdout",
          "text": [
            "Hello World\n"
          ]
        }
      ]
    },
    {
      "cell_type": "code",
      "source": [
        "str1 = \"Hello\"\n",
        "result = str1 * 3\n",
        "print(result)  # Output: HelloHelloHello\n"
      ],
      "metadata": {
        "id": "U9G8yfYBsoo7",
        "outputId": "774bb530-2d67-4353-cfc1-3268a2c545ca",
        "colab": {
          "base_uri": "https://localhost:8080/"
        }
      },
      "execution_count": null,
      "outputs": [
        {
          "output_type": "stream",
          "name": "stdout",
          "text": [
            "HelloHelloHello\n"
          ]
        }
      ]
    },
    {
      "cell_type": "code",
      "source": [
        "str1 = \"Hello\"\n",
        "print(len(str1))  # Output: 5\n"
      ],
      "metadata": {
        "id": "BhXMsmgDsore",
        "outputId": "49da937d-bb1d-4548-a780-1d8dfa2322b2",
        "colab": {
          "base_uri": "https://localhost:8080/"
        }
      },
      "execution_count": null,
      "outputs": [
        {
          "output_type": "stream",
          "name": "stdout",
          "text": [
            "5\n"
          ]
        }
      ]
    },
    {
      "cell_type": "code",
      "source": [
        "str1 = \"Hello\"\n",
        "print(str1[1])  # Output: e"
      ],
      "metadata": {
        "id": "8UJWfTdnsouD",
        "outputId": "a0c571f2-a733-4c02-8ae2-2bc7888a4f54",
        "colab": {
          "base_uri": "https://localhost:8080/"
        }
      },
      "execution_count": null,
      "outputs": [
        {
          "output_type": "stream",
          "name": "stdout",
          "text": [
            "e\n"
          ]
        }
      ]
    },
    {
      "cell_type": "code",
      "source": [
        "str1 = \"Hello World\"\n",
        "print(str1[0:5])   # Output: Hello\n",
        "print(str1[6:])    # Output: World\n",
        "print(str1[-5:])   # Output: World\n"
      ],
      "metadata": {
        "id": "nI8UZ-d9sowI",
        "outputId": "8a0409f2-3178-4bcc-8c59-a46285862463",
        "colab": {
          "base_uri": "https://localhost:8080/"
        }
      },
      "execution_count": null,
      "outputs": [
        {
          "output_type": "stream",
          "name": "stdout",
          "text": [
            "Hello\n",
            "World\n",
            "World\n"
          ]
        }
      ]
    },
    {
      "cell_type": "code",
      "source": [
        "str1 = \"Hello\"\n",
        "print(str1[::-1])  # Output: olleH\n"
      ],
      "metadata": {
        "id": "NOQuyarKsoyZ",
        "outputId": "aa0102d5-b2e3-444c-f45b-c68070420bfd",
        "colab": {
          "base_uri": "https://localhost:8080/"
        }
      },
      "execution_count": null,
      "outputs": [
        {
          "output_type": "stream",
          "name": "stdout",
          "text": [
            "olleH\n"
          ]
        }
      ]
    },
    {
      "cell_type": "code",
      "source": [
        "str1 = \"Hello World\"\n",
        "print(str1.upper())  # Output: HELLO WORLD\n",
        "print(str1.lower())  # Output: hello world\n"
      ],
      "metadata": {
        "id": "XMtYTwmKsnJt",
        "outputId": "bfe0798e-119b-4e05-b2fd-aaffb85b9aa7",
        "colab": {
          "base_uri": "https://localhost:8080/"
        }
      },
      "execution_count": null,
      "outputs": [
        {
          "output_type": "stream",
          "name": "stdout",
          "text": [
            "HELLO WORLD\n",
            "hello world\n"
          ]
        }
      ]
    },
    {
      "cell_type": "code",
      "source": [
        "str1 = \"hello world\"\n",
        "print(str1.title())  # Output: Hello World"
      ],
      "metadata": {
        "id": "0_MAzvoEs39z",
        "outputId": "7e863656-7589-4fcc-93f5-c08dbbf59818",
        "colab": {
          "base_uri": "https://localhost:8080/"
        }
      },
      "execution_count": null,
      "outputs": [
        {
          "output_type": "stream",
          "name": "stdout",
          "text": [
            "Hello World\n"
          ]
        }
      ]
    },
    {
      "cell_type": "code",
      "source": [
        "str1 = \"hello world\"\n",
        "print(str1.title())  # Output: Hello World\n"
      ],
      "metadata": {
        "id": "keum7znTs4AP",
        "outputId": "48f1aea6-cb25-4f93-8e4f-db35c99792ae",
        "colab": {
          "base_uri": "https://localhost:8080/"
        }
      },
      "execution_count": null,
      "outputs": [
        {
          "output_type": "stream",
          "name": "stdout",
          "text": [
            "Hello World\n"
          ]
        }
      ]
    },
    {
      "cell_type": "code",
      "source": [
        "str1 = \"  Hello World  \"\n",
        "print(str1.strip())  # Output: Hello World\n"
      ],
      "metadata": {
        "id": "xbLDXFV8s4C6",
        "outputId": "6c4a6e89-f517-40bd-b6e6-20cce4a56a6e",
        "colab": {
          "base_uri": "https://localhost:8080/"
        }
      },
      "execution_count": null,
      "outputs": [
        {
          "output_type": "stream",
          "name": "stdout",
          "text": [
            "Hello World\n"
          ]
        }
      ]
    },
    {
      "cell_type": "code",
      "source": [
        "str1 = \"Hello World\"\n",
        "print(str1.replace(\"World\", \"Python\"))  # Output: Hello Python\n"
      ],
      "metadata": {
        "id": "erdFImeMs4Fd",
        "outputId": "cf0836f8-ae20-4596-f74b-975cc1b8cea9",
        "colab": {
          "base_uri": "https://localhost:8080/"
        }
      },
      "execution_count": null,
      "outputs": [
        {
          "output_type": "stream",
          "name": "stdout",
          "text": [
            "Hello Python\n"
          ]
        }
      ]
    },
    {
      "cell_type": "code",
      "source": [
        "str1 = \"Hello World\"\n",
        "print(str1.split())  # Output: ['Hello', 'World']\n"
      ],
      "metadata": {
        "id": "sGoaB6V0s4Hx",
        "outputId": "ce83f254-5e24-4d7a-b77f-ee24a65dddca",
        "colab": {
          "base_uri": "https://localhost:8080/"
        }
      },
      "execution_count": null,
      "outputs": [
        {
          "output_type": "stream",
          "name": "stdout",
          "text": [
            "['Hello', 'World']\n"
          ]
        }
      ]
    },
    {
      "cell_type": "code",
      "source": [
        "list1 = [\"Hello\", \"World\"]\n",
        "print(\" \".join(list1))  # Output: Hello World\n"
      ],
      "metadata": {
        "id": "W5yfgHJusnMR",
        "outputId": "aa4b3ac8-e114-4ea6-cfc8-acc24cd252ea",
        "colab": {
          "base_uri": "https://localhost:8080/"
        }
      },
      "execution_count": null,
      "outputs": [
        {
          "output_type": "stream",
          "name": "stdout",
          "text": [
            "Hello World\n"
          ]
        }
      ]
    },
    {
      "cell_type": "code",
      "source": [
        "str1 = \"Hello World\"\n",
        "print(str1.startswith(\"Hello\"))  # Output: True\n",
        "print(str1.endswith(\"World\"))    # Output: True\n"
      ],
      "metadata": {
        "id": "pDF3gUJutCJ3",
        "outputId": "f53fbd7b-8c04-4fd4-cb8d-e00438ecef38",
        "colab": {
          "base_uri": "https://localhost:8080/"
        }
      },
      "execution_count": null,
      "outputs": [
        {
          "output_type": "stream",
          "name": "stdout",
          "text": [
            "True\n",
            "True\n"
          ]
        }
      ]
    },
    {
      "cell_type": "code",
      "source": [
        "str1 = \"Hello World\"\n",
        "print(str1.find(\"World\"))  # Output: 6\n",
        "print(str1.index(\"World\")) # Output: 6\n"
      ],
      "metadata": {
        "id": "l-p8rEGctCMW"
      },
      "execution_count": null,
      "outputs": []
    },
    {
      "cell_type": "code",
      "source": [
        "name = \"John\"\n",
        "age = 30\n",
        "print(\"My name is {} and I am {} years old\".format(name, age))\n",
        "# Output: My name is John and I am 30 years old\n"
      ],
      "metadata": {
        "id": "4K2hUM3LtCOr",
        "outputId": "23a93f04-27c4-4c05-837f-d9cd74ef7814",
        "colab": {
          "base_uri": "https://localhost:8080/"
        }
      },
      "execution_count": null,
      "outputs": [
        {
          "output_type": "stream",
          "name": "stdout",
          "text": [
            "My name is John and I am 30 years old\n"
          ]
        }
      ]
    },
    {
      "cell_type": "code",
      "source": [
        "name = \"John\"\n",
        "age = 30\n",
        "print(f\"My name is {name} and I am {age} years old\")\n",
        "# Output: My name is John and I am 30 years old\n"
      ],
      "metadata": {
        "id": "yYK8ZlbAta83",
        "outputId": "0be2b0b5-0d1d-49ee-ba98-13f8c0da5d26",
        "colab": {
          "base_uri": "https://localhost:8080/"
        }
      },
      "execution_count": null,
      "outputs": [
        {
          "output_type": "stream",
          "name": "stdout",
          "text": [
            "My name is John and I am 30 years old\n"
          ]
        }
      ]
    },
    {
      "cell_type": "code",
      "source": [
        "str1 = \"Hello\"\n",
        "str2 = \"12345\"\n",
        "str3 = \"Hello123\"\n",
        "\n",
        "print(str1.isalpha())  # Output: True\n",
        "print(str2.isdigit())  # Output: True\n",
        "print(str3.isalnum())  # Output: True\n"
      ],
      "metadata": {
        "id": "5C7X2WyAta_i",
        "outputId": "0034d438-5914-465c-c804-367613364628",
        "colab": {
          "base_uri": "https://localhost:8080/"
        }
      },
      "execution_count": null,
      "outputs": [
        {
          "output_type": "stream",
          "name": "stdout",
          "text": [
            "True\n",
            "True\n",
            "True\n"
          ]
        }
      ]
    },
    {
      "cell_type": "code",
      "source": [
        "str1 = \"Hello World\"\n",
        "print(str1.swapcase())  # Output: hELLO wORLD\n"
      ],
      "metadata": {
        "id": "PS2QLOKntbCW",
        "outputId": "973aa365-384b-44b2-ea26-edc3700b73cb",
        "colab": {
          "base_uri": "https://localhost:8080/"
        }
      },
      "execution_count": null,
      "outputs": [
        {
          "output_type": "stream",
          "name": "stdout",
          "text": [
            "hELLO wORLD\n"
          ]
        }
      ]
    },
    {
      "cell_type": "code",
      "source": [
        "str1 = \"   Hello World   \"\n",
        "print(str1.lstrip())  # Output: \"Hello World   \"\n",
        "\n",
        "str2 = \"###Hello###\"\n",
        "print(str2.lstrip(\"#\"))  # Output: \"Hello###\"\n"
      ],
      "metadata": {
        "id": "_YUS2f_4tbEs",
        "outputId": "75e4389e-be5c-4c8d-f194-e99345f26e98",
        "colab": {
          "base_uri": "https://localhost:8080/"
        }
      },
      "execution_count": null,
      "outputs": [
        {
          "output_type": "stream",
          "name": "stdout",
          "text": [
            "Hello World   \n",
            "Hello###\n"
          ]
        }
      ]
    },
    {
      "cell_type": "code",
      "source": [
        "str1 = \"   Hello World   \"\n",
        "print(str1.rstrip())  # Output: \"   Hello World\"\n",
        "\n",
        "str2 = \"###Hello###\"\n",
        "print(str2.rstrip(\"#\"))  # Output: \"###Hello\"\n"
      ],
      "metadata": {
        "id": "J9LNmch6tCRQ",
        "outputId": "ec812a49-9b01-4de1-85e3-bd8ef9be8b59",
        "colab": {
          "base_uri": "https://localhost:8080/"
        }
      },
      "execution_count": null,
      "outputs": [
        {
          "output_type": "stream",
          "name": "stdout",
          "text": [
            "   Hello World\n",
            "###Hello\n"
          ]
        }
      ]
    },
    {
      "cell_type": "code",
      "source": [
        "str1 = \"   Hello World   \"\n",
        "print(str1.strip())  # Output: \"Hello World\"\n",
        "\n",
        "str2 = \"###Hello###\"\n",
        "print(str2.strip(\"#\"))  # Output: \"Hello\"\n"
      ],
      "metadata": {
        "id": "XNd55cOLsnOz",
        "outputId": "2a20f1d3-7a85-4ac9-c4d2-c6d43898a755",
        "colab": {
          "base_uri": "https://localhost:8080/"
        }
      },
      "execution_count": null,
      "outputs": [
        {
          "output_type": "stream",
          "name": "stdout",
          "text": [
            "Hello World\n",
            "Hello\n"
          ]
        }
      ]
    },
    {
      "cell_type": "markdown",
      "source": [
        "02-08-2024"
      ],
      "metadata": {
        "id": "UlwQsrBHKsAY"
      }
    },
    {
      "cell_type": "markdown",
      "source": [
        "Variables"
      ],
      "metadata": {
        "id": "Fq4xsWrHQrjn"
      }
    },
    {
      "cell_type": "code",
      "source": [
        "_a='12'#Variable name can start with underscore\n",
        "_a"
      ],
      "metadata": {
        "colab": {
          "base_uri": "https://localhost:8080/",
          "height": 36
        },
        "id": "ORqaPzdLQsC3",
        "outputId": "32aff921-ca80-4ab8-eee3-f23409505911"
      },
      "execution_count": 10,
      "outputs": [
        {
          "output_type": "execute_result",
          "data": {
            "text/plain": [
              "'12'"
            ],
            "application/vnd.google.colaboratory.intrinsic+json": {
              "type": "string"
            }
          },
          "metadata": {},
          "execution_count": 10
        }
      ]
    },
    {
      "cell_type": "code",
      "source": [
        "1a=_12 #var name cant start with digit"
      ],
      "metadata": {
        "id": "n6buQJ7DRI-W",
        "outputId": "94ab9a7e-48c0-44c9-a5aa-d4919bc292b8",
        "colab": {
          "base_uri": "https://localhost:8080/",
          "height": 106
        }
      },
      "execution_count": 9,
      "outputs": [
        {
          "output_type": "error",
          "ename": "SyntaxError",
          "evalue": "invalid decimal literal (<ipython-input-9-587149e685bb>, line 1)",
          "traceback": [
            "\u001b[0;36m  File \u001b[0;32m\"<ipython-input-9-587149e685bb>\"\u001b[0;36m, line \u001b[0;32m1\u001b[0m\n\u001b[0;31m    1a=_12\u001b[0m\n\u001b[0m    ^\u001b[0m\n\u001b[0;31mSyntaxError\u001b[0m\u001b[0;31m:\u001b[0m invalid decimal literal\n"
          ]
        }
      ]
    },
    {
      "cell_type": "code",
      "source": [
        "a='8one '\n",
        "a"
      ],
      "metadata": {
        "id": "keAHPz-YRLRT",
        "outputId": "6ba58c67-39d1-4f74-8601-261c4d4e645d",
        "colab": {
          "base_uri": "https://localhost:8080/",
          "height": 36
        }
      },
      "execution_count": 8,
      "outputs": [
        {
          "output_type": "execute_result",
          "data": {
            "text/plain": [
              "'8one '"
            ],
            "application/vnd.google.colaboratory.intrinsic+json": {
              "type": "string"
            }
          },
          "metadata": {},
          "execution_count": 8
        }
      ]
    },
    {
      "cell_type": "code",
      "source": [
        "1 a='j' #Var name cant have whitespace\n",
        "1 a"
      ],
      "metadata": {
        "id": "wRkgZTLnSC6f",
        "outputId": "5dec2c8c-edf8-47ff-e0c1-e1b99656862c",
        "colab": {
          "base_uri": "https://localhost:8080/",
          "height": 106
        }
      },
      "execution_count": 11,
      "outputs": [
        {
          "output_type": "error",
          "ename": "SyntaxError",
          "evalue": "invalid syntax (<ipython-input-11-21174f998097>, line 1)",
          "traceback": [
            "\u001b[0;36m  File \u001b[0;32m\"<ipython-input-11-21174f998097>\"\u001b[0;36m, line \u001b[0;32m1\u001b[0m\n\u001b[0;31m    1 a='j' #Var name cant have whitespace\u001b[0m\n\u001b[0m      ^\u001b[0m\n\u001b[0;31mSyntaxError\u001b[0m\u001b[0;31m:\u001b[0m invalid syntax\n"
          ]
        }
      ]
    },
    {
      "cell_type": "markdown",
      "source": [
        "Operators"
      ],
      "metadata": {
        "id": "kMvuQjmGK3rd"
      }
    },
    {
      "cell_type": "code",
      "source": [],
      "metadata": {
        "id": "--vDFCnaKrMa"
      },
      "execution_count": null,
      "outputs": []
    },
    {
      "cell_type": "code",
      "source": [],
      "metadata": {
        "id": "NZiZPI2sKrQC"
      },
      "execution_count": null,
      "outputs": []
    },
    {
      "cell_type": "code",
      "source": [],
      "metadata": {
        "id": "fjHZkpOMKrRQ"
      },
      "execution_count": null,
      "outputs": []
    },
    {
      "cell_type": "code",
      "source": [],
      "metadata": {
        "id": "IZgTDX80KrTd"
      },
      "execution_count": null,
      "outputs": []
    },
    {
      "cell_type": "code",
      "source": [],
      "metadata": {
        "id": "phj-jLDAKrWv"
      },
      "execution_count": null,
      "outputs": []
    }
  ]
}