{
  "nbformat": 4,
  "nbformat_minor": 0,
  "metadata": {
    "colab": {
      "provenance": [],
      "authorship_tag": "ABX9TyPVH2hh5tqN0ub43r6AwVvM",
      "include_colab_link": true
    },
    "kernelspec": {
      "name": "python3",
      "display_name": "Python 3"
    },
    "language_info": {
      "name": "python"
    }
  },
  "cells": [
    {
      "cell_type": "markdown",
      "metadata": {
        "id": "view-in-github",
        "colab_type": "text"
      },
      "source": [
        "<a href=\"https://colab.research.google.com/github/kanakpandit17/Python-Programming/blob/main/python_programming.ipynb\" target=\"_parent\"><img src=\"https://colab.research.google.com/assets/colab-badge.svg\" alt=\"Open In Colab\"/></a>"
      ]
    },
    {
      "cell_type": "markdown",
      "source": [
        "https://www.youtube.com/watch?v=UrsmFxEIp5k&t=26597s"
      ],
      "metadata": {
        "id": "Rr1Tg6wcTLlo"
      }
    },
    {
      "cell_type": "markdown",
      "source": [
        "10-07"
      ],
      "metadata": {
        "id": "ZLYjux9LW_2G"
      }
    },
    {
      "cell_type": "markdown",
      "source": [
        "REPL stands for Read Evaluate Print Loop. It's an interactive programming environment that allows you to enter and execute commands directly. Here’s what each part means:\n",
        "\n",
        "Read: It reads the input you provide.\n",
        "Evaluate: It evaluates the input.\n",
        "Print: It prints the result of the evaluation.\n",
        "Loop: It repeats this process in a continuous loop, allowing you to enter new commands or expressions after seeing the result of the previous one."
      ],
      "metadata": {
        "id": "frzToxi8Wohd"
      }
    },
    {
      "cell_type": "markdown",
      "source": [
        "In Python, f is used to create f-strings, which are formatted string literals. F-strings provide a concise and readable way to embed expressions inside string literals, using curly braces {} to evaluate expressions and format values within a string."
      ],
      "metadata": {
        "id": "kgVmQFnQXlJE"
      }
    },
    {
      "cell_type": "code",
      "execution_count": null,
      "metadata": {
        "id": "nDuKoK_gW9Hj",
        "colab": {
          "base_uri": "https://localhost:8080/"
        },
        "outputId": "6b7121b3-b930-48ea-e54a-b6b66ef892ab"
      },
      "outputs": [
        {
          "output_type": "stream",
          "name": "stdout",
          "text": [
            "5* 1 = 5\n",
            "5* 2 = 10\n",
            "5* 3 = 15\n",
            "5* 4 = 20\n",
            "5* 5 = 25\n",
            "5* 6 = 30\n",
            "5* 7 = 35\n",
            "5* 8 = 40\n",
            "5* 9 = 45\n",
            "5* 10 = 50\n"
          ]
        }
      ],
      "source": [
        "def multiplication(num,limit):\n",
        "  for i in range(1,limit+1):\n",
        "    print(f\"{num}* {i} = {num*i}\")\n",
        "\n",
        "multiplication(5,10)"
      ]
    },
    {
      "cell_type": "markdown",
      "source": [
        "20-07-2024"
      ],
      "metadata": {
        "id": "lGNKduxWsPRv"
      }
    },
    {
      "cell_type": "markdown",
      "source": [
        "All String Operations"
      ],
      "metadata": {
        "id": "MrLxP9iMsdje"
      }
    },
    {
      "cell_type": "code",
      "source": [
        "str1 = \"Hello\"\n",
        "str2 = \"World\"\n",
        "result = str1 + \" \" + str2\n",
        "print(result)  # Output: Hello World"
      ],
      "metadata": {
        "id": "1jlVqvy6W-fF",
        "colab": {
          "base_uri": "https://localhost:8080/"
        },
        "outputId": "46fcbb8f-cd48-4448-c6ba-833e92dde752"
      },
      "execution_count": 51,
      "outputs": [
        {
          "output_type": "stream",
          "name": "stdout",
          "text": [
            "Hello World\n"
          ]
        }
      ]
    }
  ]
}